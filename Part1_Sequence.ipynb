{
 "cells": [
  {
   "cell_type": "markdown",
   "metadata": {},
   "source": [
    "$$\n",
    "\\newcommand{\\mat}[1]{\\boldsymbol {#1}}\n",
    "\\newcommand{\\mattr}[1]{\\boldsymbol {#1}^\\top}\n",
    "\\newcommand{\\matinv}[1]{\\boldsymbol {#1}^{-1}}\n",
    "\\newcommand{\\vec}[1]{\\boldsymbol {#1}}\n",
    "\\newcommand{\\vectr}[1]{\\boldsymbol {#1}^\\top}\n",
    "\\newcommand{\\rvar}[1]{\\mathrm {#1}}\n",
    "\\newcommand{\\rvec}[1]{\\boldsymbol{\\mathrm{#1}}}\n",
    "\\newcommand{\\diag}{\\mathop{\\mathrm {diag}}}\n",
    "\\newcommand{\\set}[1]{\\mathbb {#1}}\n",
    "\\newcommand{\\norm}[1]{\\left\\lVert#1\\right\\rVert}\n",
    "\\newcommand{\\pderiv}[2]{\\frac{\\partial #1}{\\partial #2}}\n",
    "\\newcommand{\\bb}[1]{\\boldsymbol{#1}}\n",
    "$$\n",
    "# Part 1: Sequence Models\n",
    "<a id=part1></a>"
   ]
  },
  {
   "cell_type": "markdown",
   "metadata": {},
   "source": [
    "In this part we will learn about working with text sequences using recurrent neural networks.\n",
    "We'll go from a raw text file all the way to a fully trained GRU-RNN model and generate works of art!"
   ]
  },
  {
   "cell_type": "code",
   "execution_count": 1,
   "metadata": {},
   "outputs": [
    {
     "name": "stdout",
     "output_type": "stream",
     "text": [
      "Using device: cuda\n"
     ]
    }
   ],
   "source": [
    "import unittest\n",
    "import os\n",
    "import sys\n",
    "import pathlib\n",
    "import urllib\n",
    "import shutil\n",
    "import re\n",
    "\n",
    "import numpy as np\n",
    "import torch\n",
    "import matplotlib.pyplot as plt\n",
    "\n",
    "%load_ext autoreload\n",
    "%autoreload 2\n",
    "\n",
    "test = unittest.TestCase()\n",
    "plt.rcParams.update({'font.size': 12})\n",
    "device = torch.device('cuda' if torch.cuda.is_available() else 'cpu')\n",
    "print('Using device:', device)"
   ]
  },
  {
   "cell_type": "markdown",
   "metadata": {},
   "source": [
    "## Text generation with a char-level RNN\n",
    "<a id=part1_1></a>"
   ]
  },
  {
   "cell_type": "markdown",
   "metadata": {},
   "source": [
    "### Obtaining the corpus\n",
    "<a id=part1_2></a>"
   ]
  },
  {
   "cell_type": "markdown",
   "metadata": {},
   "source": [
    "Let's begin by downloading a corpus containing all the works of William Shakespeare.\n",
    "Since he was very prolific, this corpus is fairly large and will provide us with enough data for\n",
    "obtaining impressive results."
   ]
  },
  {
   "cell_type": "code",
   "execution_count": 2,
   "metadata": {},
   "outputs": [
    {
     "name": "stdout",
     "output_type": "stream",
     "text": [
      "Corpus file /home/asaf/.pytorch-datasets/shakespeare.txt exists, skipping download.\n"
     ]
    }
   ],
   "source": [
    "CORPUS_URL = 'https://github.com/cedricdeboom/character-level-rnn-datasets/raw/master/datasets/shakespeare.txt'\n",
    "DATA_DIR = pathlib.Path.home().joinpath('.pytorch-datasets')\n",
    "\n",
    "def download_corpus(out_path=DATA_DIR, url=CORPUS_URL, force=False):\n",
    "    pathlib.Path(out_path).mkdir(exist_ok=True)\n",
    "    out_filename = os.path.join(out_path, os.path.basename(url))\n",
    "    \n",
    "    if os.path.isfile(out_filename) and not force:\n",
    "        print(f'Corpus file {out_filename} exists, skipping download.')\n",
    "    else:\n",
    "        print(f'Downloading {url}...')\n",
    "        with urllib.request.urlopen(url) as response, open(out_filename, 'wb') as out_file:\n",
    "            shutil.copyfileobj(response, out_file)\n",
    "        print(f'Saved to {out_filename}.')\n",
    "    return out_filename\n",
    "    \n",
    "corpus_path = download_corpus()"
   ]
  },
  {
   "cell_type": "markdown",
   "metadata": {},
   "source": [
    "Load the text into memory and print a snippet:"
   ]
  },
  {
   "cell_type": "code",
   "execution_count": 3,
   "metadata": {},
   "outputs": [
    {
     "name": "stdout",
     "output_type": "stream",
     "text": [
      "Corpus length: 6347703 chars\n",
      "ALLS WELL THAT ENDS WELL\n",
      "\n",
      "by William Shakespeare\n",
      "\n",
      "Dramatis Personae\n",
      "\n",
      "  KING OF FRANCE\n",
      "  THE DUKE OF FLORENCE\n",
      "  BERTRAM, Count of Rousillon\n",
      "  LAFEU, an old lord\n",
      "  PAROLLES, a follower of Bertram\n",
      "  TWO FRENCH LORDS, serving with Bertram\n",
      "\n",
      "  STEWARD, Servant to the Countess of Rousillon\n",
      "  LAVACHE, a clown and Servant to the Countess of Rousillon\n",
      "  A PAGE, Servant to the Countess of Rousillon\n",
      "\n",
      "  COUNTESS OF ROUSILLON, mother to Bertram\n",
      "  HELENA, a gentlewoman protected by the Countess\n",
      "  A WIDOW OF FLORENCE.\n",
      "  DIANA, daughter to the Widow\n",
      "\n",
      "  VIOLENTA, neighbour and friend to the Widow\n",
      "  MARIANA, neighbour and friend to the Widow\n",
      "\n",
      "  Lords, Officers, Soldiers, etc., French and Florentine  \n",
      "\n",
      "SCENE:\n",
      "Rousillon; Paris; Florence; Marseilles\n",
      "\n",
      "ACT I. SCENE 1.\n",
      "Rousillon. The COUNT'S palace\n",
      "\n",
      "Enter BERTRAM, the COUNTESS OF ROUSILLON, HELENA, and LAFEU, all in black\n",
      "\n",
      "  COUNTESS. In delivering my son from me, I bury a second husband.\n",
      "  BERTRAM. And I in going, madam, weep o'er my father's death anew;\n",
      "    but I must attend his Majesty's command, to whom I am now in\n",
      "    ward, evermore in subjection.\n",
      "  LAFEU. You shall find of the King a husband, madam; you, sir, a\n",
      "    father. He that so generally is at all times good must of\n",
      "    \n"
     ]
    }
   ],
   "source": [
    "with open(corpus_path, 'r') as f:\n",
    "    corpus = f.read()\n",
    "\n",
    "print(f'Corpus length: {len(corpus)} chars')\n",
    "print(corpus[7:1234])"
   ]
  },
  {
   "cell_type": "markdown",
   "metadata": {},
   "source": [
    "### Data Preprocessing\n",
    "<a id=part1_3></a>"
   ]
  },
  {
   "cell_type": "markdown",
   "metadata": {},
   "source": [
    "The first thing we'll need is to map from each unique character in the corpus to an index that will represent it in our learning process.\n",
    "\n",
    "**TODO**: Implement the `char_maps()` function in the `hw3/charnn.py` module."
   ]
  },
  {
   "cell_type": "code",
   "execution_count": 4,
   "metadata": {},
   "outputs": [
    {
     "name": "stdout",
     "output_type": "stream",
     "text": [
      "{'s': 0, ' ': 1, 'J': 2, 'h': 3, '2': 4, 'y': 5, 'H': 6, 'o': 7, '9': 8, ')': 9, 'R': 10, 'm': 11, 'P': 12, 'Q': 13, ',': 14, 'f': 15, 'I': 16, 'd': 17, 'e': 18, 'Y': 19, 'U': 20, '4': 21, '<': 22, '6': 23, '\"': 24, \"'\": 25, 'E': 26, '5': 27, '1': 28, ']': 29, 'l': 30, '&': 31, 't': 32, ';': 33, 'T': 34, '7': 35, '!': 36, 'n': 37, 'F': 38, 'b': 39, '}': 40, 'S': 41, 'Z': 42, 'z': 43, 'a': 44, 'g': 45, '3': 46, 'N': 47, '.': 48, '0': 49, '-': 50, 'p': 51, 'x': 52, 'q': 53, 'G': 54, '_': 55, '\\ufeff': 56, '\\n': 57, 'V': 58, '[': 59, 'j': 60, 'k': 61, 'O': 62, 'v': 63, 'r': 64, 'i': 65, '$': 66, 'c': 67, 'W': 68, 'w': 69, 'D': 70, 'u': 71, 'A': 72, '?': 73, 'X': 74, '8': 75, 'C': 76, '(': 77, 'M': 78, 'L': 79, ':': 80, 'B': 81, 'K': 82}\n"
     ]
    }
   ],
   "source": [
    "import hw3.charnn as charnn\n",
    "\n",
    "char_to_idx, idx_to_char = charnn.char_maps(corpus)\n",
    "print(char_to_idx)\n",
    "\n",
    "test.assertEqual(len(char_to_idx), len(idx_to_char))\n",
    "test.assertSequenceEqual(list(char_to_idx.keys()), list(idx_to_char.values()))\n",
    "test.assertSequenceEqual(list(char_to_idx.values()), list(idx_to_char.keys()))"
   ]
  },
  {
   "cell_type": "markdown",
   "metadata": {},
   "source": [
    "Seems we have some strange characters in the corpus that are very rare and are probably due to mistakes.\n",
    "To reduce the length of each tensor we'll need to later represent our chars, it's best to remove them.\n",
    "\n",
    "**TODO**: Implement the `remove_chars()` function in the `hw3/charnn.py` module."
   ]
  },
  {
   "cell_type": "code",
   "execution_count": 5,
   "metadata": {},
   "outputs": [
    {
     "name": "stdout",
     "output_type": "stream",
     "text": [
      "Removed 34 chars\n"
     ]
    }
   ],
   "source": [
    "corpus, n_removed = charnn.remove_chars(corpus, ['}','$','_','<','\\ufeff'])\n",
    "print(f'Removed {n_removed} chars')\n",
    "\n",
    "# After removing the chars, re-create the mappings\n",
    "char_to_idx, idx_to_char = charnn.char_maps(corpus)"
   ]
  },
  {
   "cell_type": "markdown",
   "metadata": {},
   "source": [
    "The next thing we need is an **embedding** of the chracters.\n",
    "An embedding is a representation of each token from the sequence as a tensor.\n",
    "For a char-level RNN, our tokens will be chars and we can thus use the simplest possible embedding: encode each char as a **one-hot** tensor. In other words, each char will be represented\n",
    "as a tensor whos length is the total number of unique chars (`V`) which contains all zeros except at the index\n",
    "corresponding to that specific char.\n",
    "\n",
    "**TODO**: Implement the functions `chars_to_onehot()` and `onehot_to_chars()` in the `hw3/charnn.py` module."
   ]
  },
  {
   "cell_type": "code",
   "execution_count": 6,
   "metadata": {},
   "outputs": [
    {
     "name": "stdout",
     "output_type": "stream",
     "text": [
      "brine a maiden can season her praise in.\n",
      "   \n",
      "tensor([[0, 0, 0, 0, 0, 0, 0, 0, 0, 0, 0, 0, 0, 0, 0, 0, 0, 0, 0, 0, 0, 0, 0, 0,\n",
      "         0, 0, 0, 0, 0, 0, 0, 0, 0, 0, 0, 0, 0, 0, 1, 0, 0, 0, 0, 0, 0, 0, 0, 0,\n",
      "         0, 0, 0, 0, 0, 0, 0, 0, 0, 0, 0, 0, 0, 0, 0, 0, 0, 0, 0, 0, 0, 0, 0, 0,\n",
      "         0, 0, 0, 0, 0, 0],\n",
      "        [0, 0, 0, 0, 0, 0, 0, 0, 0, 0, 0, 0, 0, 0, 0, 0, 0, 0, 0, 0, 0, 0, 0, 0,\n",
      "         0, 0, 0, 0, 0, 0, 0, 0, 0, 0, 0, 0, 0, 0, 0, 0, 0, 0, 0, 0, 0, 0, 0, 0,\n",
      "         0, 0, 0, 0, 0, 0, 0, 0, 0, 0, 0, 0, 1, 0, 0, 0, 0, 0, 0, 0, 0, 0, 0, 0,\n",
      "         0, 0, 0, 0, 0, 0],\n",
      "        [0, 0, 0, 0, 0, 0, 0, 0, 0, 0, 0, 0, 0, 0, 0, 0, 0, 0, 0, 0, 0, 0, 0, 0,\n",
      "         0, 0, 0, 0, 0, 0, 0, 0, 0, 0, 0, 0, 0, 0, 0, 0, 0, 0, 0, 0, 0, 0, 0, 0,\n",
      "         0, 0, 0, 0, 0, 0, 0, 0, 0, 0, 0, 0, 0, 1, 0, 0, 0, 0, 0, 0, 0, 0, 0, 0,\n",
      "         0, 0, 0, 0, 0, 0]], dtype=torch.int8)\n"
     ]
    }
   ],
   "source": [
    "# Wrap the actual embedding functions for calling convenience\n",
    "def embed(text):\n",
    "    return charnn.chars_to_onehot(text, char_to_idx)\n",
    "\n",
    "def unembed(embedding):\n",
    "    return charnn.onehot_to_chars(embedding, idx_to_char)\n",
    "\n",
    "text_snippet = corpus[3104:3148]\n",
    "print(text_snippet)\n",
    "print(embed(text_snippet[0:3]))\n",
    "\n",
    "test.assertEqual(text_snippet, unembed(embed(text_snippet)))\n",
    "test.assertEqual(embed(text_snippet).dtype, torch.int8)"
   ]
  },
  {
   "cell_type": "markdown",
   "metadata": {},
   "source": [
    "### Dataset Creation\n",
    "<a id=part1_4></a>"
   ]
  },
  {
   "cell_type": "markdown",
   "metadata": {},
   "source": [
    "We wish to train our model to generate text by constantly predicting what the next char should be based on the past.\n",
    "To that end we'll need to train our recurrent network in a way similar to a classification task. At each timestep, we input a char and set the expected output (label) to be the next char in the original sequence.\n",
    "\n",
    "We will split our corpus into shorter sequences of length `S` chars (try to think why; see question below).\n",
    "Each **sample** we provide our model with will therefore be a tensor of shape `(S,V)` where `V` is the embedding dimension. Our model will operate sequentially on each char in the sequence.\n",
    "For each sample, we'll also need a **label**. This is simple another sequence, shifted by one char so that the label of each char is the next char in the corpus.\n",
    "\n",
    "**TODO**: Implement the `chars_to_labelled_samples()` function in the `hw3/charnn.py` module."
   ]
  },
  {
   "cell_type": "code",
   "execution_count": 7,
   "metadata": {},
   "outputs": [
    {
     "name": "stdout",
     "output_type": "stream",
     "text": [
      "samples shape: torch.Size([99182, 64, 78])\n",
      "labels shape: torch.Size([99182, 64])\n",
      "sample 100 as text:\n",
      "nity, though valiant in the\n",
      "    defence, yet is weak. Unfold to \n"
     ]
    }
   ],
   "source": [
    "# Create dataset of sequences\n",
    "seq_len = 64\n",
    "vocab_len = len(char_to_idx)\n",
    "\n",
    "# Create labelled samples\n",
    "samples, labels = charnn.chars_to_labelled_samples(corpus, char_to_idx, seq_len, device)\n",
    "print(f'samples shape: {samples.shape}')\n",
    "print(f'labels shape: {labels.shape}')\n",
    "\n",
    "# Test shapes\n",
    "num_samples = (len(corpus) - 1) // seq_len\n",
    "test.assertEqual(samples.shape, (num_samples, seq_len, vocab_len))\n",
    "test.assertEqual(labels.shape, (num_samples, seq_len))\n",
    "\n",
    "# Test content\n",
    "for _ in range(1000):\n",
    "    # random sample\n",
    "    i = np.random.randint(num_samples, size=(1,))[0]\n",
    "    # Compare to corpus\n",
    "    test.assertEqual(unembed(samples[i]), corpus[i*seq_len:(i+1)*seq_len], msg=f\"content mismatch in sample {i}\")\n",
    "    # Compare to labels\n",
    "    sample_text = unembed(samples[i])\n",
    "    label_text = str.join('', [idx_to_char[j.item()] for j in labels[i]])\n",
    "    test.assertEqual(sample_text[1:], label_text[0:-1], msg=f\"label mismatch in sample {i}\")\n",
    "print(f'sample 100 as text:\\n{unembed(samples[100])}')"
   ]
  },
  {
   "cell_type": "markdown",
   "metadata": {},
   "source": [
    "As usual, instead of feeding one sample as a time into our model's forward we'll work with **batches** of samples. This means that at every timestep, our model will operate on a batch of chars that are from **different sequences**.\n",
    "Effectively this will allow us to parallelize training our model by dong matrix-matrix multiplications\n",
    "instead of matrix-vector during the forward pass.\n",
    "\n",
    "Let's use the standard PyTorch `Dataset`/`DataLoader` combo. Luckily for the dataset we can use a built-in\n",
    "class, `TensorDataset` to return tuples of `(sample, label)` from the `samples` and `labels` tensors we created above."
   ]
  },
  {
   "cell_type": "code",
   "execution_count": 8,
   "metadata": {},
   "outputs": [],
   "source": [
    "import torch.utils.data\n",
    "\n",
    "# Create DataLoader returning batches of samples.\n",
    "batch_size = 32\n",
    "\n",
    "ds_corpus = torch.utils.data.TensorDataset(samples, labels)\n",
    "dl_corpus = torch.utils.data.DataLoader(ds_corpus, batch_size=batch_size, shuffle=False)"
   ]
  },
  {
   "cell_type": "markdown",
   "metadata": {},
   "source": [
    "Let's see what that gives us:"
   ]
  },
  {
   "cell_type": "code",
   "execution_count": 9,
   "metadata": {},
   "outputs": [
    {
     "name": "stdout",
     "output_type": "stream",
     "text": [
      "num batches: 3100\n",
      "shape of a batch sample: torch.Size([32, 64, 78])\n",
      "shape of a batch label: torch.Size([32, 64])\n"
     ]
    }
   ],
   "source": [
    "print(f'num batches: {len(dl_corpus)}')\n",
    "\n",
    "x0, y0 = next(iter(dl_corpus))\n",
    "print(f'shape of a batch sample: {x0.shape}')\n",
    "print(f'shape of a batch label: {y0.shape}')"
   ]
  },
  {
   "cell_type": "markdown",
   "metadata": {},
   "source": [
    "### Model Implementation\n",
    "<a id=part1_5></a>"
   ]
  },
  {
   "cell_type": "markdown",
   "metadata": {},
   "source": [
    "Finally, our data set is ready so we can focus on our model.\n",
    "\n",
    "We'll implement here is a multilayer gated recurrent unit (GRU) model, with dropout.\n",
    "This model is a type of RNN which performs similar to the well-known LSTM model,\n",
    "but it's somewhat easier to train because it has less parameters.\n",
    "We'll modify the regular GRU slightly by applying dropout to\n",
    "the hidden states passed between layers of the model.\n",
    "\n",
    "The model accepts an input $\\mat{X}\\in\\set{R}^{S\\times V}$ containing a sequence of embedded chars.\n",
    "It returns an output $\\mat{Y}\\in\\set{R}^{S\\times V}$ of predictions for the next char and the final hidden state\n",
    "$\\mat{H}\\in\\set{R}^{L\\times H}$. Here $S$ is the sequence length, $V$ is the vocabulary size (number of unique chars), $L$ is the number of layers in the model and $H$ is the hidden dimension."
   ]
  },
  {
   "cell_type": "markdown",
   "metadata": {},
   "source": [
    "Mathematically, the model's forward function at layer $k\\in[1,L]$ and timestep $t\\in[1,S]$ can be described as\n",
    "\n",
    "$$\n",
    "\\begin{align}\n",
    "\\vec{z_t}^{[k]} &= \\sigma\\left(\\vec{x}^{[k]}_t {\\mattr{W}_{\\mathrm{xz}}}^{[k]} +\n",
    "    \\vec{h}_{t-1}^{[k]} {\\mattr{W}_{\\mathrm{hz}}}^{[k]} + \\vec{b}_{\\mathrm{z}}^{[k]}\\right) \\\\\n",
    "\\vec{r_t}^{[k]} &= \\sigma\\left(\\vec{x}^{[k]}_t {\\mattr{W}_{\\mathrm{xr}}}^{[k]} +\n",
    "    \\vec{h}_{t-1}^{[k]} {\\mattr{W}_{\\mathrm{hr}}}^{[k]} + \\vec{b}_{\\mathrm{r}}^{[k]}\\right) \\\\\n",
    "\\vec{g_t}^{[k]} &= \\tanh\\left(\\vec{x}^{[k]}_t {\\mattr{W}_{\\mathrm{xg}}}^{[k]} +\n",
    "    (\\vec{r_t}^{[k]}\\odot\\vec{h}_{t-1}^{[k]}) {\\mattr{W}_{\\mathrm{hg}}}^{[k]} + \\vec{b}_{\\mathrm{g}}^{[k]}\\right) \\\\\n",
    "\\vec{h_t}^{[k]} &= \\vec{z}^{[k]}_t \\odot \\vec{h}^{[k]}_{t-1} + \\left(1-\\vec{z}^{[k]}_t\\right)\\odot \\vec{g_t}^{[k]}\n",
    "\\end{align}\n",
    "$$"
   ]
  },
  {
   "cell_type": "markdown",
   "metadata": {},
   "source": [
    "The input to each layer is,\n",
    "$$\n",
    "\\mat{X}^{[k]} =\n",
    "\\begin{bmatrix}\n",
    "    {\\vec{x}_1}^{[k]} \\\\ \\vdots \\\\ {\\vec{x}_S}^{[k]}\n",
    "\\end{bmatrix} \n",
    "=\n",
    "\\begin{cases}\n",
    "    \\mat{X} & \\mathrm{if} ~k = 1~ \\\\\n",
    "    \\mathrm{dropout}_p \\left(\n",
    "    \\begin{bmatrix}\n",
    "        {\\vec{h}_1}^{[k-1]} \\\\ \\vdots \\\\ {\\vec{h}_S}^{[k-1]}\n",
    "    \\end{bmatrix} \\right) & \\mathrm{if} ~1 < k \\leq L+1~\n",
    "\\end{cases}.\n",
    "$$"
   ]
  },
  {
   "cell_type": "markdown",
   "metadata": {},
   "source": [
    "The output of the entire model is then,\n",
    "$$\n",
    "\\mat{Y} = \\mat{X}^{[L+1]} {\\mattr{W}_{\\mathrm{hy}}} + \\mat{B}_{\\mathrm{y}}\n",
    "$$"
   ]
  },
  {
   "cell_type": "markdown",
   "metadata": {},
   "source": [
    "and the final hidden state is\n",
    "$$\n",
    "\\mat{H} = \n",
    "\\begin{bmatrix}\n",
    "    {\\vec{h}_S}^{[1]} \\\\ \\vdots \\\\ {\\vec{h}_S}^{[L]}\n",
    "\\end{bmatrix}.\n",
    "$$"
   ]
  },
  {
   "cell_type": "markdown",
   "metadata": {},
   "source": [
    "Notes:\n",
    "- $t\\in[1,S]$ is the timestep, i.e. the current position within the sequence of each sample.\n",
    "- $\\vec{x}_t^{[k]}$ is the input of layer $k$ at timestep $t$, respectively.\n",
    "- The outputs of the **last layer** $\\vec{y}_t^{[L]}$, are the predicted next characters for every input char.\n",
    "  These are similar to class scores in classification tasks.\n",
    "- The hidden states at the **last timestep**, $\\vec{h}_S^{[k]}$, are the final hidden state returned from the model.\n",
    "- $\\sigma(\\cdot)$ is the sigmoid function, i.e. $\\sigma(\\vec{z}) = 1/(1+e^{-\\vec{z}})$ which returns values in $(0,1)$.\n",
    "- $\\tanh(\\cdot)$ is the hyperbolic tangent, i.e. $\\tanh(\\vec{z}) = (e^{2\\vec{z}}-1)/(e^{2\\vec{z}}+1)$ which returns values in $(-1,1)$.\n",
    "- $\\vec{h_t}^{[k]}$ is the hidden state of layer $k$ at time $t$. This can be thought of as the memory of that layer.\n",
    "- $\\vec{g_t}^{[k]}$ is the candidate hidden state for time $t+1$.\n",
    "- $\\vec{z_t}^{[k]}$ is known as the update gate. It combines the previous state with the input to determine how much the current state will be combined with the new candidate state. For example, if $\\vec{z_t}^{[k]}=\\vec{1}$ then the current input has no effect on the output.\n",
    "- $\\vec{r_t}^{[k]}$ is known as the reset gate. It combines the previous state with the input to determine how much of the previous state will affect the current state candidate. For example if $\\vec{r_t}^{[k]}=\\vec{0}$ the previous state has no effect on the current candidate state."
   ]
  },
  {
   "cell_type": "markdown",
   "metadata": {},
   "source": [
    "Here's a graphical representation of the GRU's forward pass at each timestep. The $\\vec{\\tilde{h}}$ in the image is our $\\vec{g}$ (candidate next state).\n",
    "\n",
    "<img src=\"imgs/gru_cell.png\" width=\"400\"/>\n",
    "\n",
    "You can see how the reset and update gates allow the model to completely ignore it's previous state, completely ignore it's input, or any mixture of those states (since the gates are actually continuous and between $(0,1)$)."
   ]
  },
  {
   "cell_type": "markdown",
   "metadata": {},
   "source": [
    "Here's a graphical representation of the entire model.\n",
    "You can ignore the $c_t^{[k]}$ (cell state) variables (which are relevant for LSTM models).\n",
    "Our model has only the hidden state, $h_t^{[k]}$. Also notice that we added dropout between layers (the up arrows).\n",
    "\n",
    "<img src=\"imgs/lstm_model.png\"/>\n",
    "\n",
    "The purple tensors are inputs (a sequence and initial hidden state per layer), and the green tensors are outputs (another sequence and final hidden state per layer). Each blue block implements the above forward equations.\n",
    "Blocks that are on the same vertical level are at the same layer, and therefore share parameters."
   ]
  },
  {
   "cell_type": "markdown",
   "metadata": {},
   "source": [
    "**TODO**: Implement the `MultilayerGRU` class in the `hw3/charnn.py` module.\n",
    "\n",
    "Notes:\n",
    "- You'll need to handle input **batches** now.\n",
    "  The math is identical to the above, but all the tensors will have an extra batch\n",
    "  dimension as their first dimension.\n",
    "- Use the diagram above to help guide your implementation.\n",
    "  It will help you visualize what shapes to returns where, etc.\n"
   ]
  },
  {
   "cell_type": "code",
   "execution_count": 10,
   "metadata": {},
   "outputs": [
    {
     "name": "stdout",
     "output_type": "stream",
     "text": [
      "MultilayerGRU(\n",
      "  (xz0): Linear(in_features=78, out_features=256, bias=False)\n",
      "  (hz0): Linear(in_features=256, out_features=256, bias=True)\n",
      "  (xr0): Linear(in_features=78, out_features=256, bias=False)\n",
      "  (hr0): Linear(in_features=256, out_features=256, bias=True)\n",
      "  (xg0): Linear(in_features=78, out_features=256, bias=False)\n",
      "  (hg0): Linear(in_features=256, out_features=256, bias=True)\n",
      "  (dropout0): Dropout(p=0)\n",
      "  (xz1): Linear(in_features=256, out_features=256, bias=False)\n",
      "  (hz1): Linear(in_features=256, out_features=256, bias=True)\n",
      "  (xr1): Linear(in_features=256, out_features=256, bias=False)\n",
      "  (hr1): Linear(in_features=256, out_features=256, bias=True)\n",
      "  (xg1): Linear(in_features=256, out_features=256, bias=False)\n",
      "  (hg1): Linear(in_features=256, out_features=256, bias=True)\n",
      "  (dropout1): Dropout(p=0)\n",
      "  (hy): Linear(in_features=256, out_features=78, bias=True)\n",
      ")\n",
      "y.shape=torch.Size([32, 64, 78])\n",
      "h.shape=torch.Size([32, 2, 256])\n"
     ]
    }
   ],
   "source": [
    "in_dim = vocab_len\n",
    "h_dim = 256\n",
    "n_layers = 2\n",
    "model = charnn.MultilayerGRU(in_dim, h_dim, out_dim=in_dim, n_layers=n_layers)\n",
    "model = model.to(device)\n",
    "print(model)\n",
    "\n",
    "# Test forward pass\n",
    "y, h = model(x0.to(dtype=torch.float).to(device))\n",
    "print(f'y.shape={y.shape}')\n",
    "print(f'h.shape={h.shape}')\n",
    "\n",
    "test.assertEqual(y.shape, (batch_size, seq_len, vocab_len))\n",
    "test.assertEqual(h.shape, (batch_size, n_layers, h_dim))\n",
    "test.assertEqual(len(list(model.parameters())), 9 * n_layers + 2)"
   ]
  },
  {
   "cell_type": "markdown",
   "metadata": {},
   "source": [
    "### Generating text by sampling\n",
    "<a id=part1_6></a>"
   ]
  },
  {
   "cell_type": "markdown",
   "metadata": {},
   "source": [
    "Now that we have a model, we can implement **text generation** based on it.\n",
    "The idea is simple:\n",
    "At each timestep our model receives one char $x_t$ from the input sequence and outputs scores $y_t$\n",
    "for what the next char should be.\n",
    "We'll convert these scores into a probability over each of the possible chars.\n",
    "In other words, for each input char $x_t$ we create a probability distribution for the next char\n",
    "conditioned on the current one and the state of the model (representing all previous inputs):\n",
    "$$p(x_{t+1}|x_t; \\vec{h}_t).$$\n",
    "\n",
    "Once we have such a distribution, we'll sample a char from it.\n",
    "This will be the first char of our generated sequence.\n",
    "Now we can feed this new char into the model, create another distribution, sample the next char and so on.\n",
    "Note that it's crucial to propagate the hidden state when sampling.\n",
    "\n",
    "The important point however is how to create the distribution from the scores.\n",
    "One way, as we saw in previous ML tasks, is to use the softmax function.\n",
    "However, a drawback of softmax is that it can generate very diffuse (more uniform) distributions if the score values are very similar. When sampling, we would prefer to control the distributions and make them less uniform to increase the chance of sampling the char(s) with the highest scores compared to the others.\n",
    "\n",
    "To control the variance of the distribution, a common trick is to add a hyperparameter $T$, known as the \n",
    "*temperature* to the softmax function. The class scores are simply scaled by $T$ before softmax is applied:\n",
    "$$\n",
    "\\mathrm{softmax}_T(\\vec{y}) = \\frac{e^{\\vec{y}/T}}{\\sum_k e^{y_k/T}}\n",
    "$$\n",
    "\n",
    "A low $T$ will result in less uniform distributions and vice-versa."
   ]
  },
  {
   "cell_type": "markdown",
   "metadata": {},
   "source": [
    "**TODO**: Implement the `hot_softmax()` function in the `hw3/charnn.py` module."
   ]
  },
  {
   "cell_type": "code",
   "execution_count": 11,
   "metadata": {},
   "outputs": [
    {
     "data": {
      "image/png": "[encoded data removed]",
      "text/plain": [
       "<Figure size 1080x360 with 1 Axes>"
      ]
     },
     "metadata": {
      "needs_background": "light"
     },
     "output_type": "display_data"
    }
   ],
   "source": [
    "scores = y[0,0,:].detach()\n",
    "_, ax = plt.subplots(figsize=(15,5))\n",
    "\n",
    "for t in reversed([0.3, 0.5, 1.0, 100]):\n",
    "    ax.plot(charnn.hot_softmax(scores, temperature=t).cpu().numpy(), label=f'T={t}')\n",
    "ax.set_xlabel('$x_{t+1}$')\n",
    "ax.set_ylabel('$p(x_{t+1}|x_t)$')\n",
    "ax.legend()\n",
    "\n",
    "uniform_proba = 1/len(char_to_idx)\n",
    "uniform_diff = torch.abs(charnn.hot_softmax(scores, temperature=100) - uniform_proba)\n",
    "test.assertTrue(torch.all(uniform_diff < 1e-4))"
   ]
  },
  {
   "cell_type": "markdown",
   "metadata": {},
   "source": [
    "**TODO**: Implement the `generate_from_model()` function in the `hw3/charnn.py` module."
   ]
  },
  {
   "cell_type": "code",
   "execution_count": 12,
   "metadata": {},
   "outputs": [
    {
     "name": "stdout",
     "output_type": "stream",
     "text": [
      "foobarUhRkWluTi&6)TSn-(tQ],AG\n",
      "weg\"\n",
      "DY9n?GxGT7P 4R4\n",
      "foobarQ;6)TvnM;cc-;9A8s7VR.tIcOYNqWsBEJ.X,n3oHqMk(\n",
      "foobarCzq2m4X\"0P[Y'bfzgfFE7:B[OM!,xRN9)(3PTddY-2xD\n"
     ]
    }
   ],
   "source": [
    "for _ in range(3):\n",
    "    text = charnn.generate_from_model(model, \"foobar\", 50, (char_to_idx, idx_to_char), T=0.5)\n",
    "    print(text)\n",
    "    test.assertEqual(len(text), 50)"
   ]
  },
  {
   "cell_type": "markdown",
   "metadata": {},
   "source": [
    "### Training\n",
    "<a id=part1_7></a>"
   ]
  },
  {
   "cell_type": "markdown",
   "metadata": {},
   "source": [
    "To train such a model, we'll calculate the loss at each time step by comparing the predicted char to\n",
    "the actual char from our label. We can use cross entropy since per char it's similar to a classification problem.\n",
    "We'll then sum the losses over the sequence and back-propagate the gradients though time.\n",
    "Notice that the back-propagation algorithm will \"visit\" each layer's parameter tensors multiple times,\n",
    "so we'll accumulate gradients in parameters of the blocks. Luckily `autograd` will handle this part for us."
   ]
  },
  {
   "cell_type": "markdown",
   "metadata": {},
   "source": [
    "As usual, the first step of training will be to try and **overfit** a large model (many parameters) to a tiny dataset.\n",
    "Again, this is to ensure the model and training code are implemented correctly, i.e. that the model can learn.\n",
    "\n",
    "For a generative model such as this, overfitting is slightly trickier than for for classification.\n",
    "What we'll aim to do is to get our model to **memorize** a specific sequence of chars, so that when given the first\n",
    "char in the sequence it will immediately spit out the rest of the sequence verbatim.\n",
    "\n",
    "Let's create a tiny dataset to memorize."
   ]
  },
  {
   "cell_type": "code",
   "execution_count": 13,
   "metadata": {},
   "outputs": [
    {
     "name": "stdout",
     "output_type": "stream",
     "text": [
      "Text to \"memorize\":\n",
      "\n",
      "TRAM. What would you have?\n",
      "  HELENA. Something; and scarce so much; nothing, indeed.\n",
      "    I would not tell you what I would, my lord.\n",
      "    Faith, yes:\n",
      "    Strangers and foes do sunder and not kiss.\n",
      "  BERTRAM. I pray you, stay not, but in haste to horse.\n",
      "  HE\n"
     ]
    }
   ],
   "source": [
    "# Pick a tiny subset of the dataset\n",
    "subset_start, subset_end = 1001, 1005\n",
    "ds_corpus_ss = torch.utils.data.Subset(ds_corpus, range(subset_start, subset_end))\n",
    "dl_corpus_ss = torch.utils.data.DataLoader(ds_corpus_ss, batch_size=1, shuffle=False)\n",
    "\n",
    "# Convert subset to text\n",
    "subset_text = ''\n",
    "for i in range(subset_end - subset_start):\n",
    "    subset_text += unembed(ds_corpus_ss[i][0])\n",
    "print(f'Text to \"memorize\":\\n\\n{subset_text}')"
   ]
  },
  {
   "cell_type": "markdown",
   "metadata": {},
   "source": [
    "Now let's implement the first part of our training code.\n",
    "\n",
    "**TODO**: Implement the `train_epoch()` and `train_batch()` methods of the `RNNTrainer` class in the `hw3/training.py` module. \n",
    "Note: Think about how to correctly handle the hidden state of the model between batches and epochs\n",
    "(for this specific task, i.e. text generation)."
   ]
  },
  {
   "cell_type": "code",
   "execution_count": 14,
   "metadata": {},
   "outputs": [
    {
     "name": "stdout",
     "output_type": "stream",
     "text": [
      "\n",
      "Epoch #1: Avg. loss = 3.862, Accuracy = 17.58%\n",
      "TkC\n",
      "lgR,dnu nye)\n",
      "nde 9xs\n",
      "amN\n",
      "ksh.yotmdrN1o\n",
      "a0ee i. .,hotraeLrsdeTtstttndnEtgdnyo\n",
      "nfSf tueyl\n",
      "dno  lo\n",
      "sy,IMdrh t sisnteo I8tosis a\n",
      "ey.t\n",
      "naoatigrLid&kunSeiy\n",
      "\n",
      "atyydyn aiat y;aaIsth neeits lys oaer ansnSnt\n",
      "oe lRsnHjLka9ne\n",
      "e rth . a oee;nssoadt a s)syas  VS\n",
      "4aao\n",
      "\n",
      "Epoch #25: Avg. loss = 0.017, Accuracy = 100.00%\n",
      "TRAM. What would not tell you what I would, my lord.\n",
      "    Faith, yes:\n",
      "    Strangers and foes do sunder and not kiss.\n",
      "  S would not tell you what I would,, my lord.\n",
      "    Faith, yes:\n",
      "    Strangers and foes do sunder and not kiss.\n",
      "  BERTRAM. I pray you, stay no\n",
      "\n",
      "Epoch #50: Avg. loss = 0.003, Accuracy = 100.00%\n",
      "TRAM. What would you have?\n",
      "  HELENA. Something; and scarce so much; nothing, indeed.\n",
      "    I would not tell you what I would, my lord.\n",
      "    Faith, yes:\n",
      "    Strangers and foes do sunder and not kiss.\n",
      "  BERTRAM. I pray you, stay not, but in haste to horse.\n",
      "  HE\n",
      "Stopped on Epoch 50\n"
     ]
    }
   ],
   "source": [
    "import torch.nn as nn\n",
    "import torch.optim as optim\n",
    "from hw3.training import RNNTrainer\n",
    "\n",
    "torch.manual_seed(42)\n",
    "\n",
    "lr = 0.01\n",
    "num_epochs = 500\n",
    "\n",
    "in_dim = vocab_len\n",
    "h_dim = 128\n",
    "n_layers = 2\n",
    "loss_fn = nn.CrossEntropyLoss()\n",
    "model = charnn.MultilayerGRU(in_dim, h_dim, out_dim=in_dim, n_layers=n_layers).to(device)\n",
    "optimizer = optim.Adam(model.parameters(), lr=lr)\n",
    "trainer = RNNTrainer(model, loss_fn, optimizer, device)\n",
    "\n",
    "for epoch in range(num_epochs):\n",
    "    epoch_result = trainer.train_epoch(dl_corpus_ss, verbose=False)\n",
    "    \n",
    "    # Every X epochs, we'll generate a sequence starting from the first char in the first sequence\n",
    "    # to visualize how/if/what the model is learning.\n",
    "    if epoch == 0 or (epoch+1) % 25 == 0:\n",
    "        avg_loss = np.mean(epoch_result.losses)\n",
    "        accuracy = np.mean(epoch_result.accuracy)\n",
    "        print(f'\\nEpoch #{epoch+1}: Avg. loss = {avg_loss:.3f}, Accuracy = {accuracy:.2f}%')\n",
    "        \n",
    "        generated_sequence = charnn.generate_from_model(model, subset_text[0],\n",
    "                                                        seq_len*(subset_end-subset_start),\n",
    "                                                        (char_to_idx,idx_to_char), T=1)\n",
    "        # Stop if we've successfully memorized the small dataset.\n",
    "        print(generated_sequence)\n",
    "        if generated_sequence == subset_text:\n",
    "            print(f'Stopped on Epoch {epoch + 1}')\n",
    "            break\n",
    "\n",
    "# Test successful overfitting\n",
    "test.assertGreater(epoch_result.accuracy, 99)\n",
    "test.assertEqual(generated_sequence, subset_text)"
   ]
  },
  {
   "cell_type": "markdown",
   "metadata": {},
   "source": [
    "OK, so training works - we can memorize a short sequence. Next on the agenda is to split our full dataset into a training and test sets of batched sequences."
   ]
  },
  {
   "cell_type": "code",
   "execution_count": 15,
   "metadata": {},
   "outputs": [
    {
     "name": "stdout",
     "output_type": "stream",
     "text": [
      "Train: 348 batches, 5701632 chars\n",
      "Test:   38 batches,  622592 chars\n"
     ]
    }
   ],
   "source": [
    "# Full dataset definition\n",
    "vocab_len = len(char_to_idx)\n",
    "seq_len = 64\n",
    "batch_size = 256\n",
    "train_test_ratio = 0.9\n",
    "num_samples = (len(corpus) - 1) // seq_len\n",
    "num_train = int(train_test_ratio * num_samples)\n",
    "\n",
    "samples, labels = charnn.chars_to_labelled_samples(corpus, char_to_idx, seq_len, device)\n",
    "\n",
    "ds_train = torch.utils.data.TensorDataset(samples[:num_train], labels[:num_train])\n",
    "dl_train = torch.utils.data.DataLoader(ds_train, batch_size=batch_size, shuffle=False, drop_last=True)\n",
    "\n",
    "ds_test = torch.utils.data.TensorDataset(samples[num_train:], labels[num_train:])\n",
    "dl_test = torch.utils.data.DataLoader(ds_test, batch_size=batch_size, shuffle=False, drop_last=True)\n",
    "\n",
    "print(f'Train: {len(dl_train):3d} batches, {len(dl_train)*batch_size*seq_len:7d} chars')\n",
    "print(f'Test:  {len(dl_test):3d} batches, {len(dl_test)*batch_size*seq_len:7d} chars')"
   ]
  },
  {
   "cell_type": "markdown",
   "metadata": {},
   "source": [
    "We'll now train a much larger model on our large dataset.\n",
    "You'll need a **GPU** for this part.\n",
    "\n",
    "The code blocks below will train the model and save checkpoints containing the training state and the best model parameters to a file. This allows you to stop training and resume it later from where you left.\n",
    "\n",
    "Note that you can use the `main.py` script provided within the assignment folder to run this notebook from the command line as if it were a python script by using the `run-nb` subcommand. This allows you to train your model using this notebook without starting jupyter. You can combine this with `srun` or `sbatch` to run the notebook with a GPU on the course servers."
   ]
  },
  {
   "cell_type": "code",
   "execution_count": 16,
   "metadata": {},
   "outputs": [],
   "source": [
    "# Full training definition\n",
    "lr = 0.001\n",
    "num_epochs = 50\n",
    "\n",
    "in_dim = out_dim = vocab_len\n",
    "hidden_dim = 512\n",
    "n_layers = 3\n",
    "dropout = 0.5\n",
    "checkpoint_file = 'checkpoints/rnn'\n",
    "max_batches = 300\n",
    "early_stopping = 5\n",
    "\n",
    "model = charnn.MultilayerGRU(in_dim, hidden_dim, out_dim, n_layers, dropout)\n",
    "loss_fn = nn.CrossEntropyLoss()\n",
    "optimizer = optim.Adam(model.parameters(), lr=lr)\n",
    "scheduler = optim.lr_scheduler.ReduceLROnPlateau(optimizer, mode='max', factor=0.5, patience=2, verbose=True)\n",
    "trainer = RNNTrainer(model, loss_fn, optimizer, device)"
   ]
  },
  {
   "cell_type": "markdown",
   "metadata": {},
   "source": [
    "**TODO**:\n",
    "- Implement the `fit()` method of the `Trainer` class. You can reuse the implementation from HW2, but make sure to implement early stopping and checkpoints.\n",
    "- Implement the `test_epoch()` and `test_batch()` methods of the `RNNTrainer` class in the `hw3/training.py` module.\n",
    "- Run the following block to train."
   ]
  },
  {
   "cell_type": "code",
   "execution_count": 17,
   "metadata": {},
   "outputs": [
    {
     "name": "stdout",
     "output_type": "stream",
     "text": [
      "*** Loading final checkpoint file checkpoints/rnn_final.pt instead of training\n"
     ]
    }
   ],
   "source": [
    "from cs236605.plot import plot_fit\n",
    "\n",
    "def post_epoch_fn(epoch, test_res, train_res, verbose):\n",
    "    # Update learning rate\n",
    "    scheduler.step(test_res.accuracy)\n",
    "    # Sample from model to show progress\n",
    "    if verbose:\n",
    "        start_seq = \"ACT I.\"\n",
    "        generated_sequence = charnn.generate_from_model(\n",
    "            model, start_seq, 100, (char_to_idx,idx_to_char), T=0.5\n",
    "        )\n",
    "        print(generated_sequence)\n",
    "\n",
    "# Train, unless final checkpoint is found\n",
    "checkpoint_file_final = f'{checkpoint_file}_final.pt'\n",
    "if os.path.isfile(checkpoint_file_final):\n",
    "    print(f'*** Loading final checkpoint file {checkpoint_file_final} instead of training')\n",
    "    saved_state = torch.load(checkpoint_file_final, map_location=device)\n",
    "    model.load_state_dict(saved_state['model_state'])\n",
    "else:\n",
    "    try:\n",
    "        # Print pre-training sampling\n",
    "        print(charnn.generate_from_model(model, \"ACT I.\", 100, (char_to_idx,idx_to_char), T=0.5))\n",
    "\n",
    "        fit_res = trainer.fit(dl_train, dl_test, num_epochs, max_batches=max_batches,\n",
    "                              post_epoch_fn=post_epoch_fn, #early_stopping=early_stopping,\n",
    "                              checkpoints=checkpoint_file, print_every=1)\n",
    "        \n",
    "        fig, axes = plot_fit(fit_res)\n",
    "    except KeyboardInterrupt as e:\n",
    "        print('\\n *** Training interrupted by user')"
   ]
  },
  {
   "cell_type": "markdown",
   "metadata": {},
   "source": [
    "### Generating a work of art\n",
    "<a id=part1_8></a>"
   ]
  },
  {
   "cell_type": "markdown",
   "metadata": {},
   "source": [
    "Armed with our fully trained model, let's generate the next Hamlet! You should experiment with modifying the sampling temperature and see what happens.\n",
    "\n",
    "**TODO**: Specify the generation parameters in the `part1_generation_params()` function within the `hw3/answers.py` module."
   ]
  },
  {
   "cell_type": "code",
   "execution_count": 18,
   "metadata": {},
   "outputs": [
    {
     "name": "stdout",
     "output_type": "stream",
     "text": [
      "ACT I. SCENEi .'wE6G:!\"G9RBGkFR0G9FG]FyF0G7RsFG\n",
      "7G\n",
      "]G7kFGf!0FM7dGGGG,!GR]MbF0G\n",
      "]G7kFGM!07G!fGMRl7GR]jG9!M7GRKR\n",
      "]4dGGGGa!0G\n",
      "7G\n",
      "MG9RjFG7kR7G7kR7G7kFBGMRBGbFGR0FGGdGGGGf!0G7kFGZ!99!]M4G)\"7G]!bG9\"ZkG9!0FGl!yFlBG\n",
      "]G7kFGM7RB4dGGGGEkF&G7k&GFgFZ\"7\n",
      "!]G7!G\n",
      "]M70\"Z7GB!\"G!0G7kFGwBFMVGf!0G7kFG9RK\n",
      "ZGR]jGRGbRlfG!fGkFRyF]6dGG'8 P i6G GkRyFG]!7GMk!bFjG9FG!fGk\n",
      "MG)!B6dGGiYJ 88wE6GJFGbRMGb\n",
      "7kGRG9R]G!fGRG7k!\"MR]jGb\n",
      "7kGRG9R]GMkRllG)FG7kFGf\n",
      "FljdGGGG,kR7GMkRllG)FGk!]FM7G7!G]!7G5R7\n",
      "F]ZF6dGGGGJF0F&MG7kFG9F]G!fG\n",
      "7VGR]jGkFGb!\"ljG]!7G9RsFGk\n",
      "MG5R07G!fGB!\"0GjFR0GZ!95R]B6dGGGG GR9GRGf0\n",
      "F]jG\n",
      "]G7kFGZ!\"07G!fG70R\n",
      "]VGR]jG5FRZFGR]jGl!yFVG7kFGk!\"0GR]jGfR7kF0GbR7ZkG7kFG9RjFVdGGGG?k\n",
      "ZkGbFGR0FG9BGjFMF07MG]!7GM!GR)\"M&jG9BGl\n",
      "fF6dGGGGS,kFG)RllR]7G7!Gk\n",
      "MGj\n",
      "MZ!]7F]7GjFfF]j\n",
      "]KG!fG7kFGM7!096ddGGGGGGGGGGGGGGGGGGGGGGGGGGGGGGGGw]7F0G,JwuE ,wEddGG,u' 83E6G G7kR]sGB!\"VG9R0sG9FG7kFG70\"FG9R]6GGdGGGG GkRyFG7kFGM!lj\n",
      "F0MG!fG7kFGM7R7FGRMG7kFGf\n",
      "]FG!5\n",
      "]\n",
      "!]dGGGG MGM\n",
      "]\n",
      "]KGR]jGjFZR\n",
      "]G7kBG9FR]M6dGGGGJFG5\n",
      "7BG9FG7!Gj0\n",
      "]sGRG)lRZsGb\n",
      "7kG9F]G!fGkFRyF]VdGGGGX\"7G7kR7G GkRjGRGb!0jG\n",
      "]G7kFG9R]GZ!\"ljG]!7GMkFGbF0FGRGMbFF7GlRjB6dGGY8w'[i,ui6G Gb\n",
      "llG]!7GMFFGB!\"GR]BGf0\n",
      "F]jG7!Gk\n",
      "96dGGp ';wpwE6G.!VGM\n",
      "0VGbkR7GMFFMG7kFGM\"]GRMG\n",
      "]G7kR7G]R9FG\n",
      "MGK0FR7GRG9!]M7F0G!fG7kFGZ!\"]70BGMFF9\n",
      "]KG!fG7kFGMFRMG!fG7kFG)FllBGfFR0dGGGGp\n",
      "M7RKF]Fll!0Gb\n",
      "llGK\n",
      "yFG\"MGf0!9Gk\n",
      "9GRG7k!\"MR]jG!fGB!\"0GM\n",
      "K]M6dGGGG:!\"GR0FGRG9R0s&jGR]jG7!GRGZ!9FG9BGk!\"MF6dGGGGGGGGGGGGGGGGGGGGGGGGGGGGGGGGGGGGGGGGGGGGGGGGGGGGGGGGGGGGGGGGGGGGGGGGGGGGGGGGGGGGGGGGGGGGGGGGGGGGGGGGGGGGGGGGGGGGGGGGGGGGGGGGGGGGGGGGGGGGGGGGGGGGGGGGGGGGGGGGGGGGGGGGGGGGGGGGGGGGGGGGGGGGGGGGGGGGGGGGwg\n",
      "76dGG,u' 83E6G Gb!\"ljG\n",
      "7Gb\n",
      "llG]!7G)FGRG9R]G7kR7G\n",
      "]GRGb!9R]&MG70\"95F76dGGGGGGGGGGGGGGGGGGGGGGGGGGGGGGGGGGGGGGGGGGGGGGGGGGGGGGGGGGGGGGGGGGGGGGGGGGGGGGGGGGGGGGGGGGGGGGGGGGGGGGGGGGGGGGGGGGGGGGGGGGGGGGGGGGGGGGGGGGGGGGGGGGGGGGGGGGGGGGGGGGGGGGGGGGGGGGGGGGGGGGGGGGGGGGGGGGGGGGGGGGGGGGGGGGGGSJFGMk!\"ljG)FG\n",
      "]Zk\n",
      "]GMFZ!]jG9Rl\n",
      "ZFG!fG7kFGb!0ljGRMGB!\"0MdGGGG,kR7GMkRllGB!\"G]!7GM7RBG\n",
      "]G7kFGM!]G!fGu!9FVGR]jGb\n",
      "llG]!7G)FdGGGGM\"ZkGRGjFFjG!fG9F]GRKR\n",
      "]G7!GKF7G7kFGFBFMG!fG!ffF0G!fG9BG50!5kF7\n",
      "ZB6dGGY'u .8 3E6G?kBVGM!G GM7R]jGf!0G7kR76G Gb\n",
      "llG]!7GkRyFG9BGfR7kF0Gb\n",
      "7kG9BG5!\n",
      "]76dGGGG G70\"M7G7kFGl!yFVG9BGl!0j6dGGi(i;w;.'.6G GkRyFG\n",
      "]ZF]M&jGB!\"Gbk!9G GMFFG9BGlRjBG)0!7kF0MGR]jGRGKRllR]7G\n",
      "95R7\n",
      "F]ZFGM5FRsVdGGGGi]jGbkF]G7kFBGfFR0GRKR\n",
      "]M7G9BGM\"]MFG!fG9F]odGGGGY!9FVGlF7G9BGK!!jGR]jGM!]xG G9\"M7G0FZ!yF0G7!GB!\"6dGGGG fGB!\"GR0FGM70R\n",
      "Kk7Gf!0G7kFG7\n",
      "9F6dGGp ';wpwE6G Gb\n",
      "llG]!7G)FGM5\n",
      "0\n",
      "7G7!G7k\n",
      "MGbFFsGfR\n",
      "0G!]F6dGG[i.piu3E6G GR9GRGM\n",
      "jFG7kR7GMF0yFGB!\"GF]!\"KkG!fGB!\"6dGGGG G7FllGB!\"GbkR7G GR9GRG5R07G!fG7k\n",
      "MG\n",
      "7G\n",
      "M4dGGGGa!0G7kFG70\"7kG!fG9BGkFR07VGbk!Gj!7kGM!dGGGG)FGRMGRG9R]G!fGM!lFZ]\n",
      "!]G7kR]G7kFG7\n",
      "9FG!fGMkFF7MGkRyFGb\n",
      "]7FjdGGGG,!GMFFG7kFGK0FR7F0GMb!0jG!fG70RyFllF0GR]jG]!Gb\n",
      "llG G]!7GRG5\"05!MF6dGGpwEYw.'6G,kF]G7kFGK0FR7G9!0FGj\n",
      "M9\n",
      "MMG9BGMlFF5MGR]jGb!0jMGRllGB!\"0G)!bllG\n",
      "]GRG7!]K\"FVG)FG\n",
      "7GM!G)!\"]jG7!GB!\"dGGGG,kR7G9RsFGB!\"0GM70!]KGM!]MGfR\n",
      "lGk\n",
      "9G!]G7kFGf\n",
      "F0ZFG!fGkF0GMRBG7kF0FGR0FGM!9FG9R]G!fGkF06dGGipu i.6G GMkRllGMFFGk\n",
      "9G7kR7GbRMGRGM70R]KFG)FjG!fG7kFGK0FR7GFR07kGRllG7kFGM7!0BVGB!\"0GZ!\"]70BG G7k\n",
      "]sG GkRyFG]!G9!0FG7kR]G dGGGGkRyFG7!G7kFFG7!G7kFGk!\"MFG!fG;R0Z\"MGYRM7R\n",
      "]G9BGM!]6dGGGG Gb\n",
      "llG9RsFG9BG70\"FGy!\n",
      "ZFG!fG9R]BG)FRM7MVdGGGG(!!jGR]jGRG5R\n",
      "0G!fG9R00\n",
      "RKFGl!!sG]!7G\n",
      "]G7kFGM7R7FdGGGG,!G7kFG)!l\n",
      "]KRlG7kR7Gf!0GRG50\n",
      "yR7FGMFF9GMkRllG GZR]G7kFGKRllR]7G!fG7kFGb!0ljdGGGG?\n",
      "llG]!7G)FGZ!9FGR)!\"7G7kF96G Gb!\"ljG GMkRllG]!7GMFFGB!\"0G)0!7kF0Gb\n",
      "7kG9BGfR7kF0Gb\n",
      "llGj0RbG9FGf!0G7kFGb!0j6dGGGG?kF]GB!\"Gj!G9RsFGRGM70R]KFGK0\n",
      "FfG!fGRllGB!\"0GFBFM6dGGGG G7kR]sG7kFFVG7k!\"KkGB!\"GMkRllG]!7G)FGMFF]G7!GkFRyF]GkF0FVdGGGGi]jGl\n",
      "sFGRG9R]G!fGkFRyF]VGR]jGM7\n",
      "llG\n",
      "7G)0\n",
      "]KMG]!7G\n",
      "]G7k\n",
      "MG9!0]R]76dGGGGJ!bG\n",
      "M&7GkRMG]!G9R]G7kR7GZ!9FMG]!7GbkR7G7kFBGMk!\"ljGj!GK0FR7GR]jGj!G!]FG!fG7kFGKF]F0RlGZ!9FMGR]jGb!]VdGGGGi]jGM\n",
      "]ZFGB!\"GM5FRsG!fGk\n",
      "9VG7!G)FG7kFGlRbG!fG7kR7GB!\"G7RlsG!fG]!7k\n",
      "]KGf0!9G7kFG9FR]\n",
      "]K6dGGGG'VG7kF0F&MGM!Gj!G G]!7Gj\n",
      "M7\n",
      "llFjGB!\"6G GkRjG7kFGM!\"]jG!fG9R]G9BGkR]j6dGGGGX\"7GM!9FGMFFGB!\"GMkRllG]!7G)FGM!G9\"ZkG\n",
      "]GkFRyF]GR]jG7kFG9!]FBG)\"7G\n",
      "]G7kFG9F]6dGGGG?kR7GMRBFGRGZ!]70R0BG7kR7GB!\"GR0FGM!6dGGGGJFG\n",
      "MG]!GM\"00FG9RsFGB!\"G9R]G!fGbR0VGR]jGMRBG]!7k\n",
      "]KG)\"7G)F77F0G7kR]GB!\"GM5FRs6dGGGGi]jGb\n",
      "l7G7k!\"G]!7G)FG0FZ!]Z\n",
      "l&jGb\n",
      "7kG7kFG5lRZFodGGYuwEE pi6G?kR7VG9RjR92G!GkFGF]7F0G)\n",
      "]jG7kBGMb!0jG7!G9R0sGk\n",
      "9GR]jG7kFGM!\"ldGGGG,!GMlFF5GR]jG9RjFGRG7!G9BG)!]jVGR]jGB!\"0G)FR\"7BG\n",
      "MGRGM!00!bG!fG7kFGZkR0\n",
      "FM76dGGGG'Gb!0ljVGbkR7VG\n",
      "MG9BGfR7kF0odGGYuwEE pi6G Gb\n",
      "llG7RsFG7kFG)RMFGfFll!bG7!GR]MbF0GB!\"G7kFG9RM7F06dGGGGY\n",
      "7FVGMkFG\n",
      "MG9BGl!yFVGRGy\n",
      "llR\n",
      "]G7!G7kFGb!0ljdGGGGGGGGGGGGGGGGGGGGGGGGGGGGGGGGGGGGGGGGGGGGGGGGGGGGGGGGGGGGGGGGGGGGGGGGGGGGGGGGGGGGGGGGGGGGGGGGGGGGGGGGGGGGGGGGGGGGGGGGGGGGGGGGGGGGGGGGGGGGGGGGGGGGGGGGGGGGGGGGGGGGGGGGGGGGGGGGGGGGGGGGGGGGGGGGGGGGGGGGGGGGGGGGGGGGGGGGGGGGGGGGGGGGGGGGGGGGGGGGGGGGGGGGGGGGGGGGGGGGGGGGGGGGGGGGGGGGGGGGGwg\n",
      "7GR]!7kF0Gf!0ZFdGGGGE7RBMG9!0FG7kR]G GZ!\"ljG]!7GM5R07G\n",
      "]G9BGZ!]7F]76dGGGGJ!bGMkRllGB!\"Gl\n",
      "FG7kFGM7R7FG!fG7k\n",
      "]KMG7!GkRyFG7kFG9R\n",
      "]G!fG7kFGM7R7FodGGGGa0!9G9BG]R9FG\n",
      "]G7kFGZR\"MFG7kF0F&MGRGK0FR7GjFRjGkR09Gk\n",
      "9dGGGGi]jG7kFGf0R]sGfR\n",
      "0GF0FGB!\"GMkRllG)FGMR\n",
      "jGM!GkR7kG\n",
      "7G9!0F6dGGGGJFGbRMGRG7k!\"MR]jGj\n",
      "MZ!]7F]7FjG5R07\n",
      "FMGR]jG7kFGf\n",
      "Flj6dGGGGE5FRsGbkR7GkR7kG)FF]GRGfR\n",
      "0GZ!\"M\n",
      "]VG7!GkFR0G\n",
      "76dGGiviN6G GMkRllGlF\n",
      "M\"0FGM70R\n",
      "Kk7G7kR7Gb\n",
      "llG!\"7G!fG9BGMF0yR]76dGGYuwEE pi6G GkRyFGM!GbRMGRGf\n",
      "0FGbkF0F\n",
      "]G7k!\"GR07G9BGjFR0Gl!0jMk\n",
      "56dGGGGJFG\n",
      "MGM!Gl!!s&jGb\n",
      "7kGkR09!]BG7kR7GB!\"GkRyFG]!G9!0FG7kR]GkFG\n",
      "MGMFR]G!fG!0FdGGGG,!GZ!9FG7!GMFFG7kFGR09\n",
      "]KG!fG7kFGK0\n",
      "Ff6dGGGG Gj!G)FM\n",
      "F]GB!\"GRG9R]G7kR]G7kFGMR]\n",
      "Mk&jGjFFjMG!fGfR\n",
      "7kVdGGGG,kFGf0\n",
      "F]jMGR]jGRllGB!\"0GM5FFZkG!fG9FR7MGR]jGM70!]KMGR0FGRllG7kFGb!0lj6G GR9GRGjFFjG!fGkFRyF]4dGGGG fG GkRjG\n",
      "7G!\"7G!fGM!9FGb\n",
      "]KMG7kR7GkRyFGsF57Gf!0GRG)!00!bG!fG7k\n",
      "MG5lRZF6dGGGG?kF0F&MG7kFG9R]G7kR7GMk!\"ljG)FGM!Gf0FFG7kR]Gk\n",
      "MGbRBodGG;iu i6G Gs]!bG]!7GbkR7GRGMZR0ZFG)FGkF0FG\n",
      "]G9R]BGkF\n",
      "0MGRMG GR9GGdGGGGj0!5G)BG7kFGb!07kG\n",
      "]GB!\"0Gf!07\"]FM6G GMRBG7kFG9!0FGMkFGkR7kGRGM!lj\n",
      "F0Gs]!b6dGGGG Gb\n",
      "llG7!G7kFGyF0BG9R]BGy!!MFM7Gb!0ljG7kFGkFRl7kG!fG7kFG9R]G!fGRllG7kFMFG9F]dGGGG MGM!G9R]BGR]jGFg5FZ7R7\n",
      "!]G!fG7kFG5RlRZFG!fG7kFGf\n",
      "Flj6dGGGGGGGGGGGGGGGGGGGGGGGGGGGGGGGGGGGGGGGGGGGGGGGGGGGGGGGGGGGGGGGGGGGGGGGGGGGGGGGGGGGGGGGGGGGGGGGGGGGGGGGGGGGGGGGGGGGGGGGGGGGGGGGGGGGGGGGGGGGGGGGGGGGGGGGGGGGGGGGGGGGGGGGGGGGGGGGGGGGGGGGGGGGGGGGGGGGGGGGGGGGGGGGGGGGGGGGGGGGGGGGGGGGGGGGGGGGGGGGGGGGGGGGGGGGGGGGGGGGGGGGGGGGGGGGGGGGGGGGGGGGGGGGGGGGGGGGGGGGGGGGGGGGGGGGGGGGGGGGGGGGGGGGGGGGGGGGGGGGGGGGGGGGGGGGGGGGGGGGGGGGGGGGGGGGGGGGGGGGGGGGGGGGGGGGGGGGGGGGGGGGGGGGGGGGGGGGGGGGGGGGGGGGGGGGGGGGGGGGGGGGGGGGGGGGGGGGGGGGGGGGGGGGGGGGGGGGGGGGGGGGGGGGGGGGGGGGGGGGGGGGGGGGGGGGGGGGGGGGGGGGGGGGGGGGGGGGGGGGGGGGGGGGGGGGGGGGGGGGGGGGGGGGGGGGGGGGGGGGGGwgF\"]7G[3YDddGGi(3wYJwwD6G Gj!G7kFGl\n",
      "sFG7!GlRBG7kFG0FRl9G!fG)l!!jVG\n",
      "]GbR0G\n",
      "MGl!!MF4dGGGGX\"7GbkR7GRG70\"FGR]jGMbR]KFG!fGM\"05F77R7FGR]jGM!lF9G)0\n",
      "]KGGGGGGGGGGGGGGGGGGGGGGGGGGGGGGwg\n",
      "7dGG[i.piu3E6G Gb\n",
      "llG]!7GM5FRsGb\n",
      "7kGB!\"4GR]jGMkFGMkRllG)FG7kFGK!!jGM!]KG!fG7kFG)\n",
      "KKF06dGGGG fGB!\"Gj!G\n",
      "]G7kFGM7RKFG!fGkF0MGR0FGZ!9FG7!GMFFG7kFGMF0y\n",
      "ZF6dGGGG,kF0FG\n",
      "MG]!7G9!M7G\n",
      "]Z!95R0RKF]G7!GjFMF0yFdGGGG MGRllG7kBGfR7kF0&MGZ!\"]70BG)\"7GRGZ0FR7\"0FG7!GRGjRBdGGGG'fGRllG7kFGK0!\"]jG!fGkFRyF]MGR0FGR09!\"0&jG\n",
      "]GRGl\n",
      "77lFG)F77F0dGGGGpR]U\"\n",
      "Zk\n",
      "]KG!fGB!\"0GM\n",
      "]KlFG)0RyF0GK0FR7GRKR\n",
      "]6dGGGG GMRBGM!GfR\n",
      "0GRGM7FFlGR]jG!7kF0G9FR]\n",
      "]KVdGGGG?k\n",
      "ZkG\n",
      "]G7kFGb!0ljG\n",
      "]GbR0GMkRllG9RsFGB!\"G]!b6dGGp ';wpwE6GiMG7k!\"GR07GRGM!00!bGM!G9\"ZkGRMG7kFGRZ7\n",
      "!]dGGGG GMkRllG)FGM!GRllG7kFGb!!jG!fG70\"FGjRBMG\n",
      "MGRG)!!s6dGGGG GR9G]!7G9R]BGfFR0G7kR7G)0FRsG\n",
      "7Gf!0Gk\n",
      "96dGGGGGGGGGGGGGGGGGGGGGGGGGGGGGGGGGGGGGGGGGGGGGGGGGGGGGGGGGGGGGGGGGGGGGGGGGGGGGGGGGGGGGGGGGGGGGGGGGGGGGGGGGGGGGGGGGGGGGGGGGGGGGGGGGGGGGGGGGGGGGGGGGGGGGGGGGGGGGGGGGGGGGGGGGGGGGGGGGGGGGGGGGGGGGGGGGGGGGGGGGGGGGGGGGGGGGGGGGGGGGGGGGGGGGGGGGGGGGGGGGGGGGGGGGGGGGGGGGGGGGGGGGGGGGGGGGGGGGGGGGGGGGGGGGGGGGGGGGGGGGGGGGGGGGGGGGGGGGGGGGGGGGGGGGGGGGGGGGGGGGGGGGGGGGGGGGGGGGGGGGGGGGGGGGGGGGGGGGGGGGGGGGGGGGGGGGGGGGGGGGGGGGGGGGGGGGGGGGGGGGGGGGGGGGGGGGGGGGGGGGGGGGGGGGGGGGGGGGGGGGGGGGGGGGGGGGGGGGGGGGGGGGGGGGGGGGGGGGGGGGGGGGGGGGGGGGGGGGGGGGGGGGGGGGGGGGGGGGGGGGGGGGGGGGGGGGGGGGGGGGGGGGGGGGGGGGGGGGGGGGGGGGGGGGGGGGGGGGGGGGGGGGGGGGGGGGGGGGGGGGGGGGGGGGGGGGGGGGGGGGGGGGGGGGGGGGGGGGGGGGGGGGGGGGGGGGGGGGGGGGGGGGGGGGGGGGGGGGGGGGGGGGGGGGGGGGGGGGGGGGGGGGGGGGGGGGGGGGGGGGGGGGGGGGGGGGGGGGGGGGGGGGGGGGGGGGGGGGGGGGGGGGGGGGGGGGGGGGGGGGGGGGGGGGGGGGGGGGGGGGGGGGGGGGGGGGGGGGGGGGGGGGGGGGGGGGGGGGGGGGGGGGGGGGGGGGGGGGGGGGGGGGGGGGGGGGGGGGGGGGGGGGGGGGGGGGGGGGGGGGGGGGGGGGGGGwgF\"]7ddEYw.wGP  6diG9R]G dGGGGMk!\"ljG)FGkF0G7kR7Gj!GZR9FG\n",
      "]GM!Gf0!9G9FGb\n",
      "7kG9FG7kR7G Gl!yFGk\n",
      "96dGG,JwuE ,wE6G GZR]G7RlsG!]GB!\"0G)0!7kF06dGGGGJFG\n",
      "MGRGfFR0f\"lG7k!\"Kk7G!fGkF0G!5\n",
      "]\n",
      "!]GR]jG7kFG70R\n",
      "7!0G7!G7kFGM7R7F6dGGGG fGB!\"GK!Gj!b]G9BGl\n",
      "fFG!fGkFRyF]GR]jGFg70F9FMVGM\n",
      "0VdGGGGp!7kGMRBG)BG7kFG7!]K\"FG!fG9RBGjFl\n",
      "Kk7G7kFGM7R7FVGGdGGGGiMG GR9G)FR\"7BG7!GB!\"0Gj0FRjf\"lG9!7kF0&MGjFR7k6dGGGG,kF0Ff!0FVG Gs]!bVGM\n",
      "0VG\n",
      "]G7kFG)FM7GF]70FR7BG!fGk\n",
      "96dGGGGX\"7GbkR7G7k!\"GkRM7GRGMb!0jGR]jG7k\n",
      "MGkR7kG70\"FG\n",
      "]Gk\n",
      "MGf\n",
      "FljVdGGGG?k!MFG50\n",
      "y\n",
      "lBGZ!99R]jVGR]jG!7kF0MG9RjFGk\n",
      "9G\n",
      "7GbRMGGdGGGGiGMRl7G!fGfR\n",
      "0GFR0GR]jG7kFGF]0\n",
      "Zk&jG9!]M7F06GGdGGGG?kR7GMkRllG GMFFG7kFG5RMM\n",
      "!]GR]jGjFF5GfFR0Gb\n",
      "7kG9\n",
      "M70FMMG7kR7Gb\n",
      "llG)FGRMGjRBdGGGGiMGM70R]KFG7kR7Gj!GB!\"GMkRllVGM\n",
      "0VGj!G]!7GZ!9FdGGGG ]G7kFG70\n",
      "RlG!fGkF0Gl!yF6dGG[iu'88wE6G Gj!G]!7GM5FRsGM!GbFll6Gi]jGB!\"G9BGfR7kF0Gl!yFMGB!\"G7!G)FGM7!55&j6dGGJw8i. w6G Gb!\"ljG]!7GkRyFGB!\"GRGKR\n",
      "lF0G9R]4Gf!0G GbRMGMF]7G7!G9F6dGGYuwEE pi6G &llG)FG\n",
      "]G9FG7!G)FGjF9R]jFjGR]jGM\"0FG\n",
      "]GRGMF]MFG!fGRGM!076dGGi.,'.:6G Gb\n",
      "llG]!7G)FGRGZRll&jG)FR\"7BG7kR7GkR7kG7kFGM70FF7G!fG7kFG5RlFG!fG7kFGZR00\n",
      "RKFG!fG7kFGl\n",
      "fF6dGGGG Gs]!bG]!7Gk!bG7kFGjFRjlBGM\n",
      "Kk7G!fGfFR0G!fG)lFMM\n",
      "]KVdGGGG ]7!GRGM!lj\n",
      "F0G7RlsG!fGM!G7kFG9FR]MG!fGkFRyF]GR]jG7kFG)F]Ff\n",
      "7G!fGb\n",
      "MkFMVdGGGGi]jG\n",
      "]GM!9FGM!\"]jG!fGfR\n",
      "0G5lFRM\"0FMG7kFG9R\n",
      "]GR]jG9BGl\n",
      "fF6dGGi(u [[E6Gi]jGB!\"G7kR7G7kFG)FM7GM5\n",
      "0\n",
      "7G!fG7kFG)FM7G!fG7kR7G\n",
      "MGB!\"0G)0!7kF0VdGGGG &llG0FZF\n",
      "yFGB!\"G7kR7GB!\"G9FR]G!\"7G!fG7kFGb\n",
      "]jG\n",
      "]G7kFG7k\n",
      "]KGMkFdGGGGkR7kGMk!bG9FG7kR7G7k!\"GMkRl7G]!7G)FGRG0!)FG!fG9R]BGRGj!K2dGGGG'\"0Gl!yFG\n",
      "MG!7kF0G7kR]GkFG7\n",
      "llG]!bVdGGGG,kFGZ!\"]7F]R]ZFG!fGB!\"0G)0R\n",
      "]MVGR]jG9BGl\n",
      "5MGB!\"0GM5FFZkdGGGGZ!\"ljGMFFsGk\n",
      "9G7kR7GkFGs]FFlG\n",
      "]7!G7kFG9!7kF0&MGM7R7F6dGGGG;BGM7R7FG\n",
      "MGMFF]G9BGM!]MG\n",
      "]G,k!\"GkRM7G)FF]GZ!9FG\n",
      "]G7kFGbk\n",
      "lFdGGGG GMk!\"ljG)FGM!G9\"ZkGRllG7kFGF]F9\n",
      "FMG!fGkFRyF]MVdGGGG?k!VGb!\"ljG]!7GMkRll\n"
     ]
    }
   ],
   "source": [
    "import hw3.answers\n",
    "\n",
    "start_seq, temperature = hw3.answers.part1_generation_params()\n",
    "\n",
    "generated_sequence = charnn.generate_from_model(\n",
    "    model, start_seq, 10000, (char_to_idx,idx_to_char), T=temperature\n",
    ")\n",
    "\n",
    "print(generated_sequence)"
   ]
  },
  {
   "cell_type": "markdown",
   "metadata": {},
   "source": [
    "## Questions\n",
    "<a id=part1_9></a>"
   ]
  },
  {
   "cell_type": "markdown",
   "metadata": {},
   "source": [
    "**TODO** Answer the following questions. Write your answers in the appropriate variables in the module `hw3/answers.py`."
   ]
  },
  {
   "cell_type": "code",
   "execution_count": 19,
   "metadata": {},
   "outputs": [],
   "source": [
    "from cs236605.answers import display_answer\n",
    "import hw3.answers"
   ]
  },
  {
   "cell_type": "markdown",
   "metadata": {},
   "source": [
    "### Question 1\n",
    "Why do we split the corpus into sequences instead of training on the whole text?"
   ]
  },
  {
   "cell_type": "code",
   "execution_count": 20,
   "metadata": {},
   "outputs": [
    {
     "data": {
      "text/markdown": [
       "\n",
       "We split the data because we want to limit the BPTT process. The whole text is huge, and this means that backwards\n",
       "through time will take too long to calculate. Batches, with detaching of hidden state between them, allow us to include\n",
       "less modules in the backward propogation process. Even if we do train on the whole text, it wouldn't change much due\n",
       "to vanishing gradients.\n"
      ],
      "text/plain": [
       "<IPython.core.display.Markdown object>"
      ]
     },
     "metadata": {},
     "output_type": "display_data"
    }
   ],
   "source": [
    "display_answer(hw3.answers.part1_q1)"
   ]
  },
  {
   "cell_type": "markdown",
   "metadata": {},
   "source": [
    "### Question 2\n",
    "How is it possible that the generated text clearly shows memory longer than the sequence length?"
   ]
  },
  {
   "cell_type": "code",
   "execution_count": 21,
   "metadata": {},
   "outputs": [
    {
     "data": {
      "text/markdown": [
       "\n",
       "As part of the training process, we keep the hidden state between batches (and apply detach() on it so it won't be\n",
       "included in the BPTT). This does contribute to longer memory, without having to pay the price of backpropogating too\n",
       "far back.\n"
      ],
      "text/plain": [
       "<IPython.core.display.Markdown object>"
      ]
     },
     "metadata": {},
     "output_type": "display_data"
    }
   ],
   "source": [
    "display_answer(hw3.answers.part1_q2)"
   ]
  },
  {
   "cell_type": "markdown",
   "metadata": {},
   "source": [
    "### Question 3\n",
    "Why are we not shuffling the order of batches when training?"
   ]
  },
  {
   "cell_type": "code",
   "execution_count": 22,
   "metadata": {},
   "outputs": [
    {
     "data": {
      "text/markdown": [
       "\n",
       "We don't shuffle because of of the importance of context. We want to make sure that each batch has the memory of the\n",
       "batch before (except the first, which is negligible compared to the batch number), so we don't learn half words or \n",
       "broken phrases. We also would like to learn in a more macro level, the parts of the text and not just what character\n",
       "comes after which one.\n"
      ],
      "text/plain": [
       "<IPython.core.display.Markdown object>"
      ]
     },
     "metadata": {},
     "output_type": "display_data"
    }
   ],
   "source": [
    "display_answer(hw3.answers.part1_q3)"
   ]
  },
  {
   "cell_type": "markdown",
   "metadata": {},
   "source": [
    "### Question 4\n",
    "1. Why do we lower the temperature for sampling (compared to the default of $1.0$ when training)?\n",
    "2. What happens when the temperature is very high and why?\n",
    "3. What happens when the temperature is very low and why?"
   ]
  },
  {
   "cell_type": "code",
   "execution_count": 23,
   "metadata": {},
   "outputs": [
    {
     "data": {
      "text/markdown": [
       "\n",
       "1.  Lowering the temperature greatly affect the variance of the output, which results in a more 'spiky' probabilities,\n",
       "    for fewer characters. This ensures us more certainty of the selection of the characters. This is good for sampling \n",
       "    because we want to have text that resembles the source. While training, we prefer higher temperatures, which result\n",
       "    in a more exploring nature. This variance allows us to better update the weights.\n",
       "\n",
       "2.  When the temperature is very high we will see uniform distribution between the characters, which will result in a\n",
       "    random sequence. This is because we make the differences between values smaller, which results in similar values\n",
       "    when softmaxing.\n",
       "    \n",
       "3.  When the temperature is ver low the opposite happens. greater differences, while the softmax function is exponential\n",
       "    result in very 'spiky' nature, where the smaller values get smaller, and the larger values get larger. This \n",
       "    decreases the variance and increase the probability of choosing from a small subset.\n"
      ],
      "text/plain": [
       "<IPython.core.display.Markdown object>"
      ]
     },
     "metadata": {},
     "output_type": "display_data"
    }
   ],
   "source": [
    "display_answer(hw3.answers.part1_q4)"
   ]
  }
 ],
 "metadata": {
  "kernelspec": {
   "display_name": "Python 3",
   "language": "python",
   "name": "python3"
  },
  "language_info": {
   "codemirror_mode": {
    "name": "ipython",
    "version": 3
   },
   "file_extension": ".py",
   "mimetype": "text/x-python",
   "name": "python",
   "nbconvert_exporter": "python",
   "pygments_lexer": "ipython3",
   "version": "3.7.3"
  }
 },
 "nbformat": 4,
 "nbformat_minor": 2
}
